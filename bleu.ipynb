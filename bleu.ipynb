{
 "cells": [
  {
   "cell_type": "code",
   "execution_count": 1,
   "metadata": {},
   "outputs": [],
   "source": [
    "with open('out.txt', 'r', encoding='utf8') as reader:\n",
    "    pred = [s.strip('\\n') for s in reader.readlines()]\n",
    "with open('data/中文.zh', 'r', encoding='utf8') as reader:\n",
    "    src = [s.strip('\\n') for s in reader.readlines()]\n",
    "with open('data/英文.en', 'r', encoding='utf8') as reader:\n",
    "    tgt = [s.strip('\\n') for s in reader.readlines()]"
   ]
  },
  {
   "cell_type": "code",
   "execution_count": 2,
   "metadata": {},
   "outputs": [],
   "source": [
    "src = src[int(len(src) * 0.7):int(len(src) * 0.7) + len(pred)]\n",
    "tgt = tgt[int(len(tgt) * 0.7):int(len(tgt) * 0.7) + len(pred)]"
   ]
  },
  {
   "cell_type": "code",
   "execution_count": 3,
   "metadata": {},
   "outputs": [
    {
     "data": {
      "text/plain": [
       "('只要能保持下去，人类就有望实现最为重要的集体目标。',\n",
       " 'As long as the SDGs are maintained, humanity is the most important collective goal of achieving the most respected.',\n",
       " 'As long as we can keep it this way, we humans have a good chance of achieving our most important collective task.')"
      ]
     },
     "execution_count": 3,
     "metadata": {},
     "output_type": "execute_result"
    }
   ],
   "source": [
    "src[0], pred[0], tgt[0]"
   ]
  },
  {
   "cell_type": "code",
   "execution_count": 4,
   "metadata": {},
   "outputs": [
    {
     "data": {
      "text/plain": [
       "('由于糟糕的健康状况，很难说她还可以辅佐金正恩多久，而金正恩周围多是些支持老一代的七八十岁的老将。',\n",
       " 'Given poor health conditions, it is difficult to say that she can Kim Jong-un, while Kim Jong-un’s Goldman Sachs is surrounded by some generation of long-time retired Goldman Sachs, the Kim Jong-un’s Goldman Jong-il, will be too long, and that Kim Jong-un’s Kim Jong-un, the Kim Kong-il, is surrounding Kim Jong-un, is surrounded by the Kim and ',\n",
       " 'Due to her poor health, it is unclear how long she will be able to continue advising Kim Jong-un, now surrounded by military personnel in their seventies and eighties who supported past generations.')"
      ]
     },
     "execution_count": 4,
     "metadata": {},
     "output_type": "execute_result"
    }
   ],
   "source": [
    "src[-1], pred[-1], tgt[-1]"
   ]
  },
  {
   "cell_type": "code",
   "execution_count": 5,
   "metadata": {},
   "outputs": [],
   "source": [
    "import tensorflow as tf\n",
    "import numpy as np\n",
    "tokenizer = tf.keras.preprocessing.text.Tokenizer(filters='')\n",
    "tokenizer.fit_on_texts(pred)\n",
    "tokenizer.fit_on_texts(tgt)\n",
    "\n",
    "pred_ids = tokenizer.texts_to_sequences(pred)\n",
    "tgt_ids = tokenizer.texts_to_sequences(tgt)"
   ]
  },
  {
   "cell_type": "code",
   "execution_count": 6,
   "metadata": {},
   "outputs": [
    {
     "data": {
      "text/plain": [
       "([11,\n",
       "  132,\n",
       "  11,\n",
       "  1,\n",
       "  10964,\n",
       "  13,\n",
       "  10965,\n",
       "  2877,\n",
       "  7,\n",
       "  1,\n",
       "  58,\n",
       "  161,\n",
       "  875,\n",
       "  903,\n",
       "  2,\n",
       "  1209,\n",
       "  1,\n",
       "  58,\n",
       "  10966],\n",
       " [11,\n",
       "  132,\n",
       "  11,\n",
       "  36,\n",
       "  39,\n",
       "  926,\n",
       "  10,\n",
       "  27,\n",
       "  963,\n",
       "  36,\n",
       "  6874,\n",
       "  21,\n",
       "  6,\n",
       "  224,\n",
       "  2225,\n",
       "  2,\n",
       "  1209,\n",
       "  138,\n",
       "  58,\n",
       "  161,\n",
       "  875,\n",
       "  16607])"
      ]
     },
     "execution_count": 6,
     "metadata": {},
     "output_type": "execute_result"
    }
   ],
   "source": [
    "pred_ids[0], tgt_ids[0]"
   ]
  },
  {
   "cell_type": "code",
   "execution_count": 7,
   "metadata": {},
   "outputs": [
    {
     "data": {
      "text/plain": [
       "0.19731193003824304"
      ]
     },
     "execution_count": 7,
     "metadata": {},
     "output_type": "execute_result"
    }
   ],
   "source": [
    "from nltk.translate.bleu_score import sentence_bleu\n",
    "from nltk.translate.bleu_score import SmoothingFunction\n",
    "smoothie = SmoothingFunction().method4\n",
    "\n",
    "bleu = 0.\n",
    "for i in range(len(tgt_ids)):\n",
    "    bleu += sentence_bleu([pred_ids[i]], tgt_ids[i], smoothing_function=smoothie)\n",
    "bleu / len(tgt_ids)"
   ]
  },
  {
   "cell_type": "code",
   "execution_count": null,
   "metadata": {},
   "outputs": [],
   "source": []
  }
 ],
 "metadata": {
  "kernelspec": {
   "display_name": "work",
   "language": "python",
   "name": "work"
  },
  "language_info": {
   "codemirror_mode": {
    "name": "ipython",
    "version": 3
   },
   "file_extension": ".py",
   "mimetype": "text/x-python",
   "name": "python",
   "nbconvert_exporter": "python",
   "pygments_lexer": "ipython3",
   "version": "3.7.4"
  }
 },
 "nbformat": 4,
 "nbformat_minor": 4
}
